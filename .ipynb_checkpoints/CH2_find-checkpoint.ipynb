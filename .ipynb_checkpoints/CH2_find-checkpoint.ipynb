{
 "cells": [
  {
   "cell_type": "code",
   "execution_count": 1,
   "metadata": {},
   "outputs": [],
   "source": [
    "import requests\n",
    "from bs4 import BeautifulSoup\n",
    "\n",
    "resp = requests.get('http://blog.castman.net/py-scraping-analysis-book/ch2/blog/blog.html')\n",
    "soup = BeautifulSoup(resp.text, 'html.parser')\n"
   ]
  },
  {
   "cell_type": "code",
   "execution_count": 2,
   "metadata": {},
   "outputs": [
    {
     "data": {
      "text/plain": [
       "[<p class=\"card-description\" id=\"mac-p\">\n",
       "                                     在Mac環境下安裝Python與Sublime Text3<a data-foo=\"mac-foo\" href=\"http://www.pycone.com/blogs/mac-python-environment\"> <br/>Read More </a>\n",
       " </p>]"
      ]
     },
     "execution_count": 2,
     "metadata": {},
     "output_type": "execute_result"
    }
   ],
   "source": [
    "bb = soup.find_all('', id='mac-p')\n",
    "bb"
   ]
  },
  {
   "cell_type": "code",
   "execution_count": 3,
   "metadata": {},
   "outputs": [
    {
     "name": "stdout",
     "output_type": "stream",
     "text": [
      "\n",
      "                                    在Mac環境下安裝Python與Sublime Text3 Read More \n",
      "\n"
     ]
    }
   ],
   "source": [
    "for hh in bb:\n",
    "    print(hh.text)"
   ]
  },
  {
   "cell_type": "code",
   "execution_count": 4,
   "metadata": {},
   "outputs": [
    {
     "name": "stdout",
     "output_type": "stream",
     "text": [
      "開發環境設定 Mac使用者 在Mac環境下安裝Python與Sublime Text3 Read More\n",
      "資料科學 給初學者的 Python 網頁爬蟲與資料分析 (1) 前言 Read More\n",
      "資料科學 給初學者的 Python 網頁爬蟲與資料分析 (2) 套件安裝與啟動網頁爬蟲 Read More\n",
      "資料科學 給初學者的 Python 網頁爬蟲與資料分析 (3) 解構並擷取網頁資料 Read More\n",
      "資料科學 給初學者的 Python 網頁爬蟲與資料分析 (4) 擷取資料及下載圖片 Read More\n",
      "資料科學 給初學者的 Python 網頁爬蟲與資料分析 (5) 資料分析及展示 Read More\n"
     ]
    }
   ],
   "source": [
    "divs = soup.find_all('div',class_=\"content\")\n",
    "for div in divs:\n",
    "    print(div.h6.text.strip(),div.a.text.strip(),div.p.text.strip())"
   ]
  },
  {
   "cell_type": "code",
   "execution_count": 5,
   "metadata": {},
   "outputs": [
    {
     "name": "stdout",
     "output_type": "stream",
     "text": [
      "['開發環境設定', 'Mac使用者', '在Mac環境下安裝Python與Sublime Text3', 'Read More']\n",
      "['資料科學', '給初學者的 Python 網頁爬蟲與資料分析', '(1) 前言', 'Read More']\n",
      "['資料科學', '給初學者的 Python 網頁爬蟲與資料分析', '(2) 套件安裝與啟動網頁爬蟲', 'Read More']\n",
      "['資料科學', '給初學者的 Python 網頁爬蟲與資料分析', '(3) 解構並擷取網頁資料', 'Read More']\n",
      "['資料科學', '給初學者的 Python 網頁爬蟲與資料分析', '(4) 擷取資料及下載圖片', 'Read More']\n",
      "['資料科學', '給初學者的 Python 網頁爬蟲與資料分析', '(5) 資料分析及展示', 'Read More']\n"
     ]
    }
   ],
   "source": [
    "divs = soup.find_all('div',class_=\"content\")\n",
    "for div in divs:\n",
    "    print([s for s in div.stripped_strings])"
   ]
  },
  {
   "cell_type": "code",
   "execution_count": 6,
   "metadata": {},
   "outputs": [
    {
     "name": "stdout",
     "output_type": "stream",
     "text": [
      "1823.3333333333333\n"
     ]
    }
   ],
   "source": [
    "resp_1 = requests.get('http://jwlin.github.io/py-scraping-analysis-book/ch2/table/table.html')\n",
    "soup = BeautifulSoup(resp_1.text, 'html.parser')\n",
    "prices= []\n",
    "rows = soup.find('table', class_=\"table\").tbody.find_all('tr')\n",
    "for row in rows:\n",
    "    price = row.find_all('td')[2].text\n",
    "    prices.append(int(price))\n",
    "prices\n",
    "print(sum(prices)/len(prices))\n",
    "\n"
   ]
  },
  {
   "cell_type": "code",
   "execution_count": 1,
   "metadata": {},
   "outputs": [
    {
     "name": "stdout",
     "output_type": "stream",
     "text": [
      "1823.3333333333333\n"
     ]
    }
   ],
   "source": [
    "import requests\n",
    "from bs4 import BeautifulSoup\n",
    "resp_1 = requests.get('http://jwlin.github.io/py-scraping-analysis-book/ch2/table/table.html')\n",
    "soup = BeautifulSoup(resp_1.text, 'html.parser')\n",
    "\n",
    "prices_1=[]\n",
    "links = soup.find_all('a')\n",
    "for link in links:\n",
    "    price_1 = link.parent.previous_sibling.text\n",
    "    prices_1.append(int(price_1))\n",
    "print(sum(prices_1)/len(prices_1))\n",
    "    "
   ]
  },
  {
   "cell_type": "code",
   "execution_count": 2,
   "metadata": {},
   "outputs": [
    {
     "name": "stdout",
     "output_type": "stream",
     "text": [
      "[]\n",
      "[<td>初心者 - Python入門</td>, <td>初學者</td>, <td>1490</td>, <td><a href=\"http://www.pycone.com\"><img alt=\"python™\" class=\"python-logo\" src=\"img/python-logo.png\"/></a></td>]\n",
      "[<td>Python 網頁爬蟲入門實戰</td>, <td>有程式基礎的初學者</td>, <td>1890</td>, <td><a href=\"http://www.pycone.com\"><img alt=\"python™\" class=\"python-logo\" src=\"img/python-logo.png\"/></a></td>]\n",
      "[<td>Python 機器學習入門實戰 (預計)</td>, <td>有程式基礎的初學者</td>, <td>1890</td>, <td><a href=\"http://www.pycone.com\"><img alt=\"python™\" class=\"python-logo\" src=\"img/python-logo.png\"/></a></td>]\n",
      "[<td>Python 資料科學入門實戰 (預計)</td>, <td>有程式基礎的初學者</td>, <td>1890</td>, <td><a href=\"http://www.pycone.com\"><img alt=\"python™\" class=\"python-logo\" src=\"img/python-logo.png\"/></a></td>]\n",
      "[<td>Python 資料視覺化入門實戰 (預計)</td>, <td>有程式基礎的初學者</td>, <td>1890</td>, <td><a href=\"http://www.pycone.com\"><img alt=\"python™\" class=\"python-logo\" src=\"img/python-logo.png\"/></a></td>]\n",
      "[<td>Python 網站架設入門實戰 (預計)</td>, <td>有程式基礎的初學者</td>, <td>1890</td>, <td><a><img alt=\"python™\" class=\"python-logo\" src=\"img/python-logo.png\"/></a></td>]\n"
     ]
    }
   ],
   "source": [
    "rows = soup.find('table',class_=\"table\").find_all('tr')\n",
    "for row in rows:\n",
    "    all_tds = row.find_all('td')\n",
    "    print(all_tds)\n"
   ]
  },
  {
   "cell_type": "code",
   "execution_count": 21,
   "metadata": {
    "scrolled": true
   },
   "outputs": [
    {
     "ename": "AttributeError",
     "evalue": "'NoneType' object has no attribute 'attrs'",
     "output_type": "error",
     "traceback": [
      "\u001b[0;31m---------------------------------------------------------------------------\u001b[0m",
      "\u001b[0;31mAttributeError\u001b[0m                            Traceback (most recent call last)",
      "\u001b[0;32m<ipython-input-21-9e832eae3bf8>\u001b[0m in \u001b[0;36m<module>\u001b[0;34m\u001b[0m\n\u001b[1;32m      1\u001b[0m \u001b[0;32mfor\u001b[0m \u001b[0mrow\u001b[0m \u001b[0;32min\u001b[0m \u001b[0mrows\u001b[0m\u001b[0;34m:\u001b[0m\u001b[0;34m\u001b[0m\u001b[0;34m\u001b[0m\u001b[0m\n\u001b[1;32m      2\u001b[0m     \u001b[0mall_tds\u001b[0m \u001b[0;34m=\u001b[0m \u001b[0;34m[\u001b[0m \u001b[0mtd\u001b[0m \u001b[0;32mfor\u001b[0m \u001b[0mtd\u001b[0m \u001b[0;32min\u001b[0m \u001b[0mrow\u001b[0m\u001b[0;34m.\u001b[0m\u001b[0mchildren\u001b[0m\u001b[0;34m]\u001b[0m\u001b[0;34m\u001b[0m\u001b[0;34m\u001b[0m\u001b[0m\n\u001b[0;32m----> 3\u001b[0;31m     \u001b[0;32mif\u001b[0m \u001b[0;34m'href'\u001b[0m \u001b[0;32min\u001b[0m \u001b[0mall_tds\u001b[0m\u001b[0;34m[\u001b[0m\u001b[0;36m3\u001b[0m\u001b[0;34m]\u001b[0m\u001b[0;34m.\u001b[0m\u001b[0ma\u001b[0m\u001b[0;34m.\u001b[0m\u001b[0mattrs\u001b[0m\u001b[0;34m:\u001b[0m\u001b[0;34m\u001b[0m\u001b[0;34m\u001b[0m\u001b[0m\n\u001b[0m\u001b[1;32m      4\u001b[0m         \u001b[0mhref\u001b[0m \u001b[0;34m=\u001b[0m \u001b[0mall_tds\u001b[0m\u001b[0;34m[\u001b[0m\u001b[0;36m3\u001b[0m\u001b[0;34m]\u001b[0m\u001b[0;34m.\u001b[0m\u001b[0ma\u001b[0m\u001b[0;34m[\u001b[0m\u001b[0;34m'href'\u001b[0m\u001b[0;34m]\u001b[0m\u001b[0;34m\u001b[0m\u001b[0;34m\u001b[0m\u001b[0m\n\u001b[1;32m      5\u001b[0m     \u001b[0;32melse\u001b[0m\u001b[0;34m:\u001b[0m\u001b[0;34m\u001b[0m\u001b[0;34m\u001b[0m\u001b[0m\n",
      "\u001b[0;31mAttributeError\u001b[0m: 'NoneType' object has no attribute 'attrs'"
     ]
    }
   ],
   "source": [
    "for row in rows:\n",
    "    all_tds = [ td for td in row.children]\n",
    "    if 'href' in all_tds[3].a.attrs:\n",
    "        href = all_tds[3].a['href']\n",
    "    else:\n",
    "        href = None\n",
    "    print(all_tds[0].text,all_tds[1].text,all_tds[2].text,href,all_tds[3].a.img['src'])\n",
    "        "
   ]
  },
  {
   "cell_type": "code",
   "execution_count": null,
   "metadata": {},
   "outputs": [],
   "source": []
  },
  {
   "cell_type": "code",
   "execution_count": null,
   "metadata": {},
   "outputs": [],
   "source": []
  },
  {
   "cell_type": "code",
   "execution_count": null,
   "metadata": {},
   "outputs": [],
   "source": []
  }
 ],
 "metadata": {
  "kernelspec": {
   "display_name": "Python 3",
   "language": "python",
   "name": "python3"
  },
  "language_info": {
   "codemirror_mode": {
    "name": "ipython",
    "version": 3
   },
   "file_extension": ".py",
   "mimetype": "text/x-python",
   "name": "python",
   "nbconvert_exporter": "python",
   "pygments_lexer": "ipython3",
   "version": "3.7.5"
  }
 },
 "nbformat": 4,
 "nbformat_minor": 2
}
