{
 "cells": [
  {
   "cell_type": "code",
   "execution_count": 2,
   "metadata": {},
   "outputs": [
    {
     "name": "stdout",
     "output_type": "stream",
     "text": [
      "歡迎來到 Pycone 松果城市！\n"
     ]
    }
   ],
   "source": [
    "import requests \n",
    "from bs4 import BeautifulSoup\n",
    "\n",
    "resp = requests.get('http://blog.castman.net/web-crawler-tutorial/ch1/connect.html')\n",
    "soup = BeautifulSoup(resp.text, 'html.parser')\n",
    "print(soup.find('h1').text)"
   ]
  },
  {
   "cell_type": "code",
   "execution_count": 26,
   "metadata": {},
   "outputs": [],
   "source": [
    "def get_tag_text(url,tag):\n",
    "    try:\n",
    "        resp = requests.get(url)\n",
    "        if resp.status_code == 200:\n",
    "            soup = BeautifulSoup(resp.text, 'html.parser')\n",
    "            return soup.find(tag).text\n",
    "    except Exception as e:\n",
    "        print('Exception: %s' %(e))\n",
    "    return None\n",
    "        "
   ]
  },
  {
   "cell_type": "code",
   "execution_count": 27,
   "metadata": {},
   "outputs": [
    {
     "name": "stdout",
     "output_type": "stream",
     "text": [
      "Exception: HTTPConnectionPool(host='blog.castman.', port=80): Max retries exceeded with url: /web-crawler-tutorial/ch1/connect.html (Caused by NewConnectionError('<urllib3.connection.HTTPConnection object at 0x107f3f690>: Failed to establish a new connection: [Errno 8] nodename nor servname provided, or not known'))\n"
     ]
    }
   ],
   "source": [
    "get_tag_text('http://blog.castman./web-crawler-tutorial/ch1/connect.html','h1')\n"
   ]
  },
  {
   "cell_type": "code",
   "execution_count": 28,
   "metadata": {},
   "outputs": [
    {
     "data": {
      "text/plain": [
       "'歡迎來到 Pycone 松果城市！'"
      ]
     },
     "execution_count": 28,
     "metadata": {},
     "output_type": "execute_result"
    }
   ],
   "source": [
    "get_tag_text('http://blog.castman.net/web-crawler-tutorial/ch1/connect.html','h1')"
   ]
  },
  {
   "cell_type": "code",
   "execution_count": 53,
   "metadata": {},
   "outputs": [
    {
     "name": "stdout",
     "output_type": "stream",
     "text": [
      "__main__\n",
      "歡迎來到 Pycone 松果城市！\n",
      "Exception: 'NoneType' object has no attribute 'text'\n",
      "None\n",
      "Exception: HTTPConnectionPool(host='non-existed.domain', port=80): Max retries exceeded with url: /connect.html (Caused by NewConnectionError('<urllib3.connection.HTTPConnection object at 0x107f307d0>: Failed to establish a new connection: [Errno 8] nodename nor servname provided, or not known'))\n",
      "None\n"
     ]
    }
   ],
   "source": [
    "import requests\n",
    "from bs4 import BeautifulSoup\n",
    "\n",
    "def main():\n",
    "    ur11 = 'http://blog.castman.net/web-crawler-tutorial/ch1/connect.html'\n",
    "    bad_ur1 = 'http://non-existed.domain/connect.html'\n",
    "    text1 = get_tag_text(ur11,'h1')\n",
    "    print(text1)\n",
    "    text2 = get_tag_text(ur11,'h2')\n",
    "    print(text2)\n",
    "    text3 = get_tag_text(bad_ur1,'h1')\n",
    "    print(text3)\n",
    "   \n",
    "    \n",
    "def get_tag_text(ur1,tag):\n",
    "    try:\n",
    "        resp = requests.get(ur1)\n",
    "        if resp.status_code == 200:\n",
    "            soup = BeautifulSoup(resp.text, 'html.parser')\n",
    "            return soup.find(tag).text\n",
    "    except Exception as e:\n",
    "        print('Exception: %s' %(e))\n",
    "        return None\n",
    "    \n",
    "           \n",
    "if __name__ == '__main__':\n",
    "    print(__name__ )\n",
    "    main()"
   ]
  },
  {
   "cell_type": "code",
   "execution_count": null,
   "metadata": {},
   "outputs": [],
   "source": []
  },
  {
   "cell_type": "code",
   "execution_count": null,
   "metadata": {},
   "outputs": [],
   "source": []
  }
 ],
 "metadata": {
  "kernelspec": {
   "display_name": "Python 3",
   "language": "python",
   "name": "python3"
  },
  "language_info": {
   "codemirror_mode": {
    "name": "ipython",
    "version": 3
   },
   "file_extension": ".py",
   "mimetype": "text/x-python",
   "name": "python",
   "nbconvert_exporter": "python",
   "pygments_lexer": "ipython3",
   "version": "3.7.5"
  }
 },
 "nbformat": 4,
 "nbformat_minor": 2
}
